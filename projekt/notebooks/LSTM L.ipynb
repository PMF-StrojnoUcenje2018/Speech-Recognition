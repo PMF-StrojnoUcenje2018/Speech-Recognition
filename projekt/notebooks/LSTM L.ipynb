{
 "cells": [
  {
   "cell_type": "markdown",
   "metadata": {},
   "source": [
    "## 1. TRENIRANJE"
   ]
  },
  {
   "cell_type": "code",
   "execution_count": 4,
   "metadata": {},
   "outputs": [],
   "source": [
    "import sys\n",
    "import os\n",
    "import tensorflow as tf\n",
    "\n",
    "sys.path.append(\"../libs\")\n",
    "from classification import input_data\n",
    "from classification import models\n",
    "from classification import trainer\n",
    "from classification import freeze\n",
    "\n",
    "tf.reset_default_graph()"
   ]
  },
  {
   "cell_type": "markdown",
   "metadata": {},
   "source": [
    "**FLAGS**\n",
    "\n",
    "Modeli strojnog učenja često zahtjevaju da mnogi parametri budu zadani na početku modela, te da se ti isti parametri po mogućnosti lako mijenjaju, kao što je npr. broj neurona u neuronskoj mreži, *learning rate*, *batch size* itd. Korištenje zastavica (*flags*) je jednostavan način kako bi preko komandne linije mijenjali neki parameter u kodu. Prvi argument je ime zastavice, drugi je zadana vrijednost, a treći opis zastavice."
   ]
  },
  {
   "cell_type": "code",
   "execution_count": 5,
   "metadata": {},
   "outputs": [],
   "source": [
    "def del_all_flags(FLAGS):\n",
    "    flags_dict = FLAGS._flags()\n",
    "    keys_list = [keys for keys in flags_dict]\n",
    "    for keys in keys_list:\n",
    "        FLAGS.__delattr__(keys)\n",
    "\n",
    "\n",
    "\n",
    "\n",
    "\n",
    "del_all_flags(tf.flags.FLAGS)"
   ]
  },
  {
   "cell_type": "code",
   "execution_count": 6,
   "metadata": {},
   "outputs": [],
   "source": [
    "\n",
    "flags = tf.app.flags\n",
    "FLAGS = flags.FLAGS\n",
    "flags.DEFINE_string('data_dir','../data/raw','Train Data Folder')\n",
    "flags.DEFINE_string('summaries_dir','../summaries','Summaries Folder')\n",
    "flags.DEFINE_string('models_dir','../models','Models Folder')\n",
    "flags.DEFINE_string('wanted_words','yes,no,up,down,left,right,on,off,stop,go','Wanted Words')\n",
    "flags.DEFINE_float('validation_percentage',10,'Validation Percentage')\n",
    "flags.DEFINE_float('testing_percentage',10,'Testing Percentage')\n",
    "flags.DEFINE_integer('sample_rate',16000,'Sample Rate')\n",
    "flags.DEFINE_integer('clip_duration_ms',1000,'Clip Duration in ms')\n",
    "flags.DEFINE_float('window_size_ms',40,'How long each spectogram timeslice is')\n",
    "flags.DEFINE_float('window_stride_ms',20,'How far to move in time between frequency windows.')\n",
    "flags.DEFINE_integer('dct_coefficient_count',40,'How many bins to use for the MFCC fingerprint')\n",
    "flags.DEFINE_float('time_shift_ms',100.0,'Range to randomly shift the training audio by in time.')\n",
    "\n",
    "FLAGS=flags.FLAGS"
   ]
  },
  {
   "cell_type": "markdown",
   "metadata": {},
   "source": [
    "**MODEL**\n",
    "\n",
    "Kao arhitektura modela izabrana je LSTM neuronska mreža, posebna vrsta rekurentnih neuronskih mreža koja je dobra za učenje dugotrajnih ovisnosti i pamti informacije u dužem periodu.\n",
    "Neki od parametara koji su zadani su:\n",
    "\n",
    "*silence_percentage* – povećavanjem će model raditi u korist *true positive* za *silence* i smanjenjem *false negatives* za riječi\n",
    "\n",
    "*unknown_percentage* – zadano je da 10% podataka za treniranje bira iz *unknown* klase, povećavanjem će model manje vjerojatno zamijeniti uknown riječi za željene, ali ako je prevelik model će zaključiti da je najsigurnije sve riječi kategorizirati kao uknown\n",
    "\n",
    "*learning_rate* – zadan je za određeni broj iteracija; kontrolira brzinu ažuriranja težina neuronske mreže\n",
    "\n",
    "*background_volume*  - glasnoća; 0 je tišina a 1 dokraja pojačana glasnoća\n",
    "\n",
    "*background_frequency* - u kojoj proporciji je background noise dodan u zvučne zapise \n",
    "\n",
    "*batch_size* - broj primjeraka iz uzorka za treniranje u jednoj iteraciji treniranja "
   ]
  },
  {
   "cell_type": "code",
   "execution_count": 7,
   "metadata": {},
   "outputs": [],
   "source": [
    "model_architecture='lstm_l'\n",
    "logging_interval=10\n",
    "eval_step_interval=500\n",
    "save_step_interval=50000\n",
    "silence_percentage=10.0\n",
    "unknown_percentage=15.0\n",
    "background_frequency=1\n",
    "background_volume=0.3\n",
    "learning_rate='0.0005,0.0001,0.00002,0.0001,0.00002' \n",
    "train_steps='10000,10000,10000,15000,5000' \n",
    "batch_size=256\n"
   ]
  },
  {
   "cell_type": "code",
   "execution_count": 8,
   "metadata": {},
   "outputs": [],
   "source": [
    "tf.app.flags.DEFINE_string('f', '', 'kernel')\n",
    "train_dir=os.path.join(FLAGS.data_dir,'train','audio')"
   ]
  },
  {
   "cell_type": "code",
   "execution_count": 9,
   "metadata": {},
   "outputs": [
    {
     "name": "stdout",
     "output_type": "stream",
     "text": [
      "../data/raw\\train\\audio\\*\\*.wav\n",
      "..\\data\\raw\\train\\audio\\_background_noise_\\doing_the_dishes.wav\n",
      "..\\data\\raw\\train\\audio\\_background_noise_\\dude_miaowing.wav\n",
      "..\\data\\raw\\train\\audio\\_background_noise_\\exercise_bike.wav\n",
      "..\\data\\raw\\train\\audio\\_background_noise_\\pink_noise.wav\n",
      "..\\data\\raw\\train\\audio\\_background_noise_\\running_tap.wav\n",
      "..\\data\\raw\\train\\audio\\_background_noise_\\white_noise.wav\n",
      "Tensor(\"AudioSpectrogram:0\", shape=(?, 49, 513), dtype=float32)\n"
     ]
    }
   ],
   "source": [
    "model_settings = models.prepare_model_settings(\n",
    "      len(input_data.prepare_words_list(FLAGS.wanted_words.split(','))),\n",
    "      FLAGS.sample_rate, FLAGS.clip_duration_ms, FLAGS.window_size_ms,\n",
    "      FLAGS.window_stride_ms, FLAGS.dct_coefficient_count)\n",
    "audio_processor = input_data.AudioProcessor(\n",
    "      train_dir, silence_percentage, unknown_percentage,\n",
    "      FLAGS.wanted_words.split(','), FLAGS.validation_percentage,\n",
    "      FLAGS.testing_percentage, model_settings,use_silence_folder=True)"
   ]
  },
  {
   "cell_type": "code",
   "execution_count": 10,
   "metadata": {},
   "outputs": [],
   "source": [
    "def get_train_data(args):\n",
    "    sess=args\n",
    "    time_shift_samples = int((FLAGS.time_shift_ms * FLAGS.sample_rate) / 1000)\n",
    "    train_fingerprints, train_ground_truth = audio_processor.get_data(\n",
    "        batch_size, 0, model_settings,background_frequency,\n",
    "        background_volume, time_shift_samples, 'training', sess)\n",
    "    return train_fingerprints,train_ground_truth"
   ]
  },
  {
   "cell_type": "code",
   "execution_count": 11,
   "metadata": {},
   "outputs": [],
   "source": [
    "def get_val_data(args):\n",
    "    '''\n",
    "    Input: (sess,offset)\n",
    "    '''\n",
    "    sess,i=args\n",
    "    validation_fingerprints, validation_ground_truth = (\n",
    "            audio_processor.get_data(batch_size, i, model_settings, 0.0,\n",
    "                                     0.0, 0, 'validation', sess))\n",
    "    return validation_fingerprints,validation_ground_truth"
   ]
  },
  {
   "cell_type": "code",
   "execution_count": 12,
   "metadata": {},
   "outputs": [],
   "source": [
    "def get_test_data(args):\n",
    "    '''\n",
    "    Input: (sess,offset)\n",
    "    '''\n",
    "    sess,i=args\n",
    "    test_fingerprints, test_ground_truth = audio_processor.get_data(\n",
    "        batch_size, i, model_settings, 0.0, 0.0, 0, 'testing', sess)\n",
    "    return test_fingerprints,test_ground_truth"
   ]
  },
  {
   "cell_type": "markdown",
   "metadata": {},
   "source": [
    "**PLACEHOLDER**  \n",
    "Dosad smo upotrebljavali varijable za upravljanje podacima, no postoji osnovnija struktura- *placeholder*. *Placeholder* je jednostavno varijabla kojoj ćemo naknadno dodijeliti vrijednost. To nam omogućuje stvaranje mjesta u memoriji gdje ćemo kasnije pohraniti vrijednosti."
   ]
  },
  {
   "cell_type": "code",
   "execution_count": 13,
   "metadata": {},
   "outputs": [],
   "source": [
    "def main(_):\n",
    "    sess=tf.InteractiveSession()\n",
    "    # Placeholders\n",
    "    fingerprint_size = model_settings['fingerprint_size']\n",
    "    label_count = model_settings['label_count']\n",
    "    fingerprint_input = tf.placeholder(\n",
    "      tf.float32, [None, fingerprint_size], name='fingerprint_input')\n",
    "    ground_truth_input = tf.placeholder(\n",
    "      tf.float32, [None, label_count], name='groundtruth_input')\n",
    "    set_size = audio_processor.set_size('validation')\n",
    "    label_count = model_settings['label_count']\n",
    "    \n",
    "    #Model\n",
    "    \n",
    "    logits, dropout_prob = models.create_model(\n",
    "      fingerprint_input,\n",
    "      model_settings,\n",
    "      model_architecture,\n",
    "      is_training=True)\n",
    "    \n",
    "    \n",
    "    extra_args=(dropout_prob,label_count,batch_size,set_size)\n",
    "    trainer.train(sess,logits,fingerprint_input,ground_truth_input,get_train_data,\n",
    "                  get_val_data,train_steps,learning_rate,eval_step_interval, logging_interval=logging_interval,\n",
    "                  checkpoint_interval=save_step_interval,\n",
    "                  model_name=model_architecture,summaries_dir=FLAGS.summaries_dir,args=extra_args)"
   ]
  },
  {
   "cell_type": "markdown",
   "metadata": {},
   "source": [
    "**TRENIRANJE**\n",
    "\n",
    "Tijekom treniranja vidimo na kojem smo koraku treniranja. Za svakih deset koraka su nam pokazane *accuracy* (točnost) i *cross entropy* vrijednosti. Točnost  nam pokazuje koliko je klasa točno predviđeno na određenom koraku treniranja. Ovaj rezultat često varira, ali se u pravilu povećava kako treniranje mreže ide kraju. *Cross entropy* je rezultat funkcije gubitka, i vrijednost bi trebala padati tijekom treniranja. Nakon svakih 500 koraka dobivamo matricu konfuzije."
   ]
  },
  {
   "cell_type": "code",
   "execution_count": null,
   "metadata": {
    "scrolled": false
   },
   "outputs": [],
   "source": [
    "tf.app.run(main=main)"
   ]
  },
  {
   "cell_type": "code",
   "execution_count": null,
   "metadata": {},
   "outputs": [],
   "source": []
  }
 ],
 "metadata": {
  "kernelspec": {
   "display_name": "Python 3",
   "language": "python",
   "name": "python3"
  },
  "language_info": {
   "codemirror_mode": {
    "name": "ipython",
    "version": 3
   },
   "file_extension": ".py",
   "mimetype": "text/x-python",
   "name": "python",
   "nbconvert_exporter": "python",
   "pygments_lexer": "ipython3",
   "version": "3.6.4"
  }
 },
 "nbformat": 4,
 "nbformat_minor": 2
}
